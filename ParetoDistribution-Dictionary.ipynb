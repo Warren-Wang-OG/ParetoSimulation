{
 "cells": [
  {
   "cell_type": "markdown",
   "metadata": {},
   "source": [
    "### Pareto Distribution Demonstration Via Random Trading\n",
    "\n",
    "In order to see if in a free market society the money of capable traders acrue in the hands of less and less people, we will create a simulation in which only people with money can trade with one another. In this simulation we will define a trade to be an randomized event in which 2 traders both have a 50/50 chance of winning \\\\$10. Both traders, if they have the money, will put in \\\\$5 of their money in a shared pot. Based of a coin flip, the winning trader will get the total money put into the pot."
   ]
  },
  {
   "cell_type": "markdown",
   "metadata": {},
   "source": [
    "### Simulation Code"
   ]
  },
  {
   "cell_type": "code",
   "execution_count": 27,
   "metadata": {},
   "outputs": [],
   "source": [
    "import random\n",
    "import time\n",
    "import matplotlib.pyplot as plt"
   ]
  },
  {
   "cell_type": "code",
   "execution_count": 28,
   "metadata": {},
   "outputs": [],
   "source": [
    "class Person:\n",
    "    def __init__(self, money, id):\n",
    "        self.money = money\n",
    "        self.id = id\n",
    "        self.trades = 0\n",
    "    \n",
    "    def __repr__(self):\n",
    "        return f\"Person {self.id} has ${self.money} and has done {self.trades} number of trades.\""
   ]
  },
  {
   "cell_type": "code",
   "execution_count": 29,
   "metadata": {},
   "outputs": [],
   "source": [
    "class Coin:\n",
    "    def __init__(self):\n",
    "        self.state = [True, False]\n",
    "    def flip(self):\n",
    "        return random.choice(self.state)\n",
    "    def fairness(self):\n",
    "        # testing 100 coin flips\n",
    "        heads = 0\n",
    "        tails = 0\n",
    "        for i in range(100):\n",
    "            if coin.flip():\n",
    "                heads += 1\n",
    "            else:\n",
    "                tails += 1\n",
    "        print(\"heads:\", heads, \"tails:\", tails)"
   ]
  },
  {
   "cell_type": "code",
   "execution_count": 35,
   "metadata": {},
   "outputs": [],
   "source": [
    "class Simulation:\n",
    "    def __init__(self, start_money, trade_amount, num_population, sim_id, logTradesVerbose):\n",
    "        \n",
    "        self.traderPopulation = dict() # format: id, Person Object\n",
    "        self.noMoneyPopulation = dict() # format: id, Person Object\n",
    "        self.trade_log = []\n",
    "        self.start_money = start_money\n",
    "        self.trade_amount = trade_amount\n",
    "        self.num_population = num_population\n",
    "        self.coin = Coin()\n",
    "        self.sim_id = sim_id\n",
    "        # plotting and data tracking data attributes\n",
    "        self.plot_time = 0\n",
    "        self.plot_time_log = []\n",
    "        self.plot_pop_count_log = []\n",
    "        self.plot_no_money_count_log = []\n",
    "        self.logTradesVerbose = logTradesVerbose # T or F\n",
    "        self.log_trade_count = 0\n",
    "        \n",
    "    # generate people all starting with the same amount of money\n",
    "    def generate_population(self):\n",
    "        for id in range(self.num_population):\n",
    "            self.traderPopulation[id] = Person(self.start_money, id)\n",
    "    \n",
    "    # remove trader with no money from trading population\n",
    "    def remove_trader(self, id):\n",
    "        tmp = self.traderPopulation[id]\n",
    "        del self.traderPopulation[id]\n",
    "        self.noMoneyPopulation[id] = tmp\n",
    "        \n",
    "    # define trading\n",
    "    def trade(self):\n",
    "        '''\n",
    "        Requires at least 2 people in population who have money to trade with one another.\n",
    "        '''\n",
    "        traders = random.sample(self.traderPopulation.items(), 2)\n",
    "        x = traders[0][1]\n",
    "        y = traders[1][1]\n",
    "        # trade\n",
    "        if self.coin.flip():\n",
    "            x.money += self.trade_amount\n",
    "            y.money -= self.trade_amount\n",
    "            x.trades += 1\n",
    "            y.trades += 1\n",
    "            if(self.logTradesVerbose):\n",
    "                self.trade_log.append(f\"Person {x.id} has gained ${self.trade_amount} and Person {y.id} has lost ${self.trade_amount}!\")\n",
    "                self.log_trade_count += 1\n",
    "            else:\n",
    "                self.log_trade_count += 1\n",
    "            if(y.money == 0):\n",
    "                self.remove_trader(y.id)\n",
    "        else:\n",
    "            y.money += self.trade_amount\n",
    "            x.money -= self.trade_amount\n",
    "            x.trades += 1\n",
    "            y.trades += 1\n",
    "            if(self.logTradesVerbose):\n",
    "                self.trade_log.append(f\"Person {y.id} has gained ${self.trade_amount} and Person {x.id} has lost ${self.trade_amount}!\")\n",
    "                self.log_trade_count += 1\n",
    "            else:\n",
    "                self.log_trade_count += 1\n",
    "            if(x.money == 0):\n",
    "                self.remove_trader(x.id)\n",
    "\n",
    "    # create trade cycles\n",
    "    def trade_cycle(self):\n",
    "        if(len(self.traderPopulation) >= 2):\n",
    "            self.trade()\n",
    "            return True\n",
    "        else:\n",
    "            return False\n",
    "    \n",
    "    def write_stats_to_file(self):\n",
    "        # write simulation info to text file\n",
    "        with open(f\"results{self.sim_id}.txt\", \"w\") as f:\n",
    "            f.write(f\"Start money: {self.start_money} | Trade Amount: {self.trade_amount} | Num Population: {self.num_population}\\n\\n\")\n",
    "            for k, v in self.traderPopulation.items():\n",
    "                f.write(f\"Person with everything: {v}\\n\\n\")\n",
    "            f.write(f\"Total number of trades: {self.log_trade_count}\\n\\n\")\n",
    "            if(self.logTradesVerbose):\n",
    "                f.write(f\"Trade Log:\\n\")\n",
    "                for line in self.trade_log:\n",
    "                    f.write(line)\n",
    "                    f.write('\\n')\n",
    "                f.write('\\n')\n",
    "                f.write(\"No Money Population: (chronological order of people who got to $0)\\n\")\n",
    "                for p in self.no_money_population:\n",
    "                    f.write(str(p))\n",
    "                    f.write('\\n')\n",
    "                f.write('\\n')\n",
    "        \n",
    "    def plot_population_vs_time(self):\n",
    "        plt.plot(self.plot_time_log, self.plot_pop_count_log, 'ko', label=\"Trader Population\")\n",
    "        plt.plot(self.plot_time_log, self.plot_no_money_count_log, 'bo', label=\"No Money Population\")\n",
    "        plt.legend()\n",
    "        plt.title(\"Population Number vs. Time \")\n",
    "        plt.xlabel(\"Time\")\n",
    "        plt.ylabel(\"Population Count\")\n",
    "        \n",
    "    def plot_increment_data(self):\n",
    "        self.plot_time_log.append(self.plot_time)\n",
    "        self.plot_time += 1\n",
    "        self.plot_pop_count_log.append(len(self.traderPopulation))\n",
    "        self.plot_no_money_count_log.append(len(self.noMoneyPopulation))\n",
    "    \n",
    "    def main(self):\n",
    "        # generate population\n",
    "        self.generate_population()\n",
    "        # commence trading\n",
    "        while(self.trade_cycle()):\n",
    "            self.plot_increment_data()\n",
    "        print(\"Simulation successfully completed. Now plotting data.\")\n",
    "        self.plot_population_vs_time()\n",
    "        print(\"Plotting data completed. Now writing stats to file.\")\n",
    "        self.write_stats_to_file()\n",
    "        print(\"Writing data to file completed. Everything done.\")"
   ]
  },
  {
   "cell_type": "markdown",
   "metadata": {},
   "source": [
    "### Adjustable Variables"
   ]
  },
  {
   "cell_type": "code",
   "execution_count": 36,
   "metadata": {},
   "outputs": [],
   "source": [
    "start_money = 100\n",
    "trade_amount = 50\n",
    "num_population = 100\n",
    "simulation_id = 0"
   ]
  },
  {
   "cell_type": "code",
   "execution_count": 38,
   "metadata": {},
   "outputs": [
    {
     "name": "stdout",
     "output_type": "stream",
     "text": [
      "Simulation successfully completed. Now plotting data.\n",
      "Plotting data completed. Now writing stats to file.\n",
      "Writing data to file completed. Everything done.\n",
      "SimId:0 took 0.09629487991333008 seconds\n"
     ]
    },
    {
     "data": {
      "image/png": "[encoded data removed]",
      "text/plain": [
       "<Figure size 432x288 with 1 Axes>"
      ]
     },
     "metadata": {
      "needs_background": "light"
     },
     "output_type": "display_data"
    }
   ],
   "source": [
    "startTime = time.time()\n",
    "sim = Simulation(start_money, trade_amount, num_population, simulation_id, False)\n",
    "sim.main()\n",
    "print(f\"SimId:{simulation_id} took {time.time() - startTime} seconds\")"
   ]
  },
  {
   "cell_type": "code",
   "execution_count": 39,
   "metadata": {},
   "outputs": [],
   "source": [
    "start_money = 100\n",
    "trade_amount = 50\n",
    "num_population = 1000\n",
    "simulation_id = 1"
   ]
  },
  {
   "cell_type": "code",
   "execution_count": 40,
   "metadata": {},
   "outputs": [
    {
     "name": "stdout",
     "output_type": "stream",
     "text": [
      "Simulation successfully completed. Now plotting data.\n",
      "Plotting data completed. Now writing stats to file.\n",
      "Writing data to file completed. Everything done.\n",
      "SimId:1 took 8.150397777557373 seconds\n"
     ]
    },
    {
     "data": {
      "image/png": "[encoded data removed]",
      "text/plain": [
       "<Figure size 432x288 with 1 Axes>"
      ]
     },
     "metadata": {
      "needs_background": "light"
     },
     "output_type": "display_data"
    }
   ],
   "source": [
    "startTime = time.time()\n",
    "sim = Simulation(start_money, trade_amount, num_population, simulation_id, False)\n",
    "sim.main()\n",
    "print(f\"SimId:{simulation_id} took {time.time() - startTime} seconds\")"
   ]
  },
  {
   "cell_type": "code",
   "execution_count": 41,
   "metadata": {},
   "outputs": [],
   "source": [
    "start_money = 2\n",
    "trade_amount = 1\n",
    "num_population = 10000\n",
    "simulation_id = 2"
   ]
  },
  {
   "cell_type": "code",
   "execution_count": 42,
   "metadata": {},
   "outputs": [
    {
     "name": "stdout",
     "output_type": "stream",
     "text": [
      "Simulation successfully completed. Now plotting data.\n",
      "Plotting data completed. Now writing stats to file.\n",
      "Writing data to file completed. Everything done.\n",
      "SimId:2 took 1604.4762728214264 seconds\n"
     ]
    },
    {
     "data": {
      "image/png": "[encoded data removed]",
      "text/plain": [
       "<Figure size 432x288 with 1 Axes>"
      ]
     },
     "metadata": {
      "needs_background": "light"
     },
     "output_type": "display_data"
    }
   ],
   "source": [
    "startTime = time.time()\n",
    "sim = Simulation(start_money, trade_amount, num_population, simulation_id, False)\n",
    "sim.main()\n",
    "print(f\"SimId:{simulation_id} took {time.time() - startTime} seconds\")"
   ]
  },
  {
   "cell_type": "markdown",
   "metadata": {},
   "source": [
    "# TODOS\n",
    "- switch from Python list data type to Python Dictionary data type to store values in format (key, value) = (id, money)"
   ]
  },
  {
   "cell_type": "code",
   "execution_count": null,
   "metadata": {},
   "outputs": [],
   "source": []
  }
 ],
 "metadata": {
  "kernelspec": {
   "display_name": "Python 3",
   "language": "python",
   "name": "python3"
  },
  "language_info": {
   "codemirror_mode": {
    "name": "ipython",
    "version": 3
   },
   "file_extension": ".py",
   "mimetype": "text/x-python",
   "name": "python",
   "nbconvert_exporter": "python",
   "pygments_lexer": "ipython3",
   "version": "3.7.8"
  }
 },
 "nbformat": 4,
 "nbformat_minor": 5
}
